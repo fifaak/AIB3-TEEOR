{
  "nbformat": 4,
  "nbformat_minor": 0,
  "metadata": {
    "colab": {
      "provenance": [],
      "gpuType": "T4"
    },
    "kernelspec": {
      "name": "python3",
      "display_name": "Python 3"
    },
    "language_info": {
      "name": "python"
    },
    "accelerator": "GPU",
    "widgets": {
      "application/vnd.jupyter.widget-state+json": {
        "d740e4167e6a4af28891a3b326d92c70": {
          "model_module": "@jupyter-widgets/controls",
          "model_name": "HBoxModel",
          "model_module_version": "1.5.0",
          "state": {
            "_dom_classes": [],
            "_model_module": "@jupyter-widgets/controls",
            "_model_module_version": "1.5.0",
            "_model_name": "HBoxModel",
            "_view_count": null,
            "_view_module": "@jupyter-widgets/controls",
            "_view_module_version": "1.5.0",
            "_view_name": "HBoxView",
            "box_style": "",
            "children": [
              "IPY_MODEL_63ac97cb600e4057ae0068ec0459eea6",
              "IPY_MODEL_c2cabd5136484ca183a0503b63370ee2",
              "IPY_MODEL_10190b62a7c944c58c5b7c78304e599c"
            ],
            "layout": "IPY_MODEL_f24ba979346e4c6ca530e065115e1754"
          }
        },
        "63ac97cb600e4057ae0068ec0459eea6": {
          "model_module": "@jupyter-widgets/controls",
          "model_name": "HTMLModel",
          "model_module_version": "1.5.0",
          "state": {
            "_dom_classes": [],
            "_model_module": "@jupyter-widgets/controls",
            "_model_module_version": "1.5.0",
            "_model_name": "HTMLModel",
            "_view_count": null,
            "_view_module": "@jupyter-widgets/controls",
            "_view_module_version": "1.5.0",
            "_view_name": "HTMLView",
            "description": "",
            "description_tooltip": null,
            "layout": "IPY_MODEL_e4aa93c802ec43ef949962872c2c8a64",
            "placeholder": "​",
            "style": "IPY_MODEL_9797c4e6e9e64731957781df79e6cb0b",
            "value": "100%"
          }
        },
        "c2cabd5136484ca183a0503b63370ee2": {
          "model_module": "@jupyter-widgets/controls",
          "model_name": "FloatProgressModel",
          "model_module_version": "1.5.0",
          "state": {
            "_dom_classes": [],
            "_model_module": "@jupyter-widgets/controls",
            "_model_module_version": "1.5.0",
            "_model_name": "FloatProgressModel",
            "_view_count": null,
            "_view_module": "@jupyter-widgets/controls",
            "_view_module_version": "1.5.0",
            "_view_name": "ProgressView",
            "bar_style": "success",
            "description": "",
            "description_tooltip": null,
            "layout": "IPY_MODEL_5065f5133c3c41859d5a538433d8e15a",
            "max": 1,
            "min": 0,
            "orientation": "horizontal",
            "style": "IPY_MODEL_e49ee0f1315648a5ba2f686ffcc492b5",
            "value": 1
          }
        },
        "10190b62a7c944c58c5b7c78304e599c": {
          "model_module": "@jupyter-widgets/controls",
          "model_name": "HTMLModel",
          "model_module_version": "1.5.0",
          "state": {
            "_dom_classes": [],
            "_model_module": "@jupyter-widgets/controls",
            "_model_module_version": "1.5.0",
            "_model_name": "HTMLModel",
            "_view_count": null,
            "_view_module": "@jupyter-widgets/controls",
            "_view_module_version": "1.5.0",
            "_view_name": "HTMLView",
            "description": "",
            "description_tooltip": null,
            "layout": "IPY_MODEL_1c4a2ef92032461cba4c725d503b5f65",
            "placeholder": "​",
            "style": "IPY_MODEL_79863396ec594af1ae39298d8b0a4669",
            "value": " 1/1 [00:00&lt;00:00,  4.79it/s]"
          }
        },
        "f24ba979346e4c6ca530e065115e1754": {
          "model_module": "@jupyter-widgets/base",
          "model_name": "LayoutModel",
          "model_module_version": "1.2.0",
          "state": {
            "_model_module": "@jupyter-widgets/base",
            "_model_module_version": "1.2.0",
            "_model_name": "LayoutModel",
            "_view_count": null,
            "_view_module": "@jupyter-widgets/base",
            "_view_module_version": "1.2.0",
            "_view_name": "LayoutView",
            "align_content": null,
            "align_items": null,
            "align_self": null,
            "border": null,
            "bottom": null,
            "display": null,
            "flex": null,
            "flex_flow": null,
            "grid_area": null,
            "grid_auto_columns": null,
            "grid_auto_flow": null,
            "grid_auto_rows": null,
            "grid_column": null,
            "grid_gap": null,
            "grid_row": null,
            "grid_template_areas": null,
            "grid_template_columns": null,
            "grid_template_rows": null,
            "height": null,
            "justify_content": null,
            "justify_items": null,
            "left": null,
            "margin": null,
            "max_height": null,
            "max_width": null,
            "min_height": null,
            "min_width": null,
            "object_fit": null,
            "object_position": null,
            "order": null,
            "overflow": null,
            "overflow_x": null,
            "overflow_y": null,
            "padding": null,
            "right": null,
            "top": null,
            "visibility": null,
            "width": null
          }
        },
        "e4aa93c802ec43ef949962872c2c8a64": {
          "model_module": "@jupyter-widgets/base",
          "model_name": "LayoutModel",
          "model_module_version": "1.2.0",
          "state": {
            "_model_module": "@jupyter-widgets/base",
            "_model_module_version": "1.2.0",
            "_model_name": "LayoutModel",
            "_view_count": null,
            "_view_module": "@jupyter-widgets/base",
            "_view_module_version": "1.2.0",
            "_view_name": "LayoutView",
            "align_content": null,
            "align_items": null,
            "align_self": null,
            "border": null,
            "bottom": null,
            "display": null,
            "flex": null,
            "flex_flow": null,
            "grid_area": null,
            "grid_auto_columns": null,
            "grid_auto_flow": null,
            "grid_auto_rows": null,
            "grid_column": null,
            "grid_gap": null,
            "grid_row": null,
            "grid_template_areas": null,
            "grid_template_columns": null,
            "grid_template_rows": null,
            "height": null,
            "justify_content": null,
            "justify_items": null,
            "left": null,
            "margin": null,
            "max_height": null,
            "max_width": null,
            "min_height": null,
            "min_width": null,
            "object_fit": null,
            "object_position": null,
            "order": null,
            "overflow": null,
            "overflow_x": null,
            "overflow_y": null,
            "padding": null,
            "right": null,
            "top": null,
            "visibility": null,
            "width": null
          }
        },
        "9797c4e6e9e64731957781df79e6cb0b": {
          "model_module": "@jupyter-widgets/controls",
          "model_name": "DescriptionStyleModel",
          "model_module_version": "1.5.0",
          "state": {
            "_model_module": "@jupyter-widgets/controls",
            "_model_module_version": "1.5.0",
            "_model_name": "DescriptionStyleModel",
            "_view_count": null,
            "_view_module": "@jupyter-widgets/base",
            "_view_module_version": "1.2.0",
            "_view_name": "StyleView",
            "description_width": ""
          }
        },
        "5065f5133c3c41859d5a538433d8e15a": {
          "model_module": "@jupyter-widgets/base",
          "model_name": "LayoutModel",
          "model_module_version": "1.2.0",
          "state": {
            "_model_module": "@jupyter-widgets/base",
            "_model_module_version": "1.2.0",
            "_model_name": "LayoutModel",
            "_view_count": null,
            "_view_module": "@jupyter-widgets/base",
            "_view_module_version": "1.2.0",
            "_view_name": "LayoutView",
            "align_content": null,
            "align_items": null,
            "align_self": null,
            "border": null,
            "bottom": null,
            "display": null,
            "flex": null,
            "flex_flow": null,
            "grid_area": null,
            "grid_auto_columns": null,
            "grid_auto_flow": null,
            "grid_auto_rows": null,
            "grid_column": null,
            "grid_gap": null,
            "grid_row": null,
            "grid_template_areas": null,
            "grid_template_columns": null,
            "grid_template_rows": null,
            "height": null,
            "justify_content": null,
            "justify_items": null,
            "left": null,
            "margin": null,
            "max_height": null,
            "max_width": null,
            "min_height": null,
            "min_width": null,
            "object_fit": null,
            "object_position": null,
            "order": null,
            "overflow": null,
            "overflow_x": null,
            "overflow_y": null,
            "padding": null,
            "right": null,
            "top": null,
            "visibility": null,
            "width": null
          }
        },
        "e49ee0f1315648a5ba2f686ffcc492b5": {
          "model_module": "@jupyter-widgets/controls",
          "model_name": "ProgressStyleModel",
          "model_module_version": "1.5.0",
          "state": {
            "_model_module": "@jupyter-widgets/controls",
            "_model_module_version": "1.5.0",
            "_model_name": "ProgressStyleModel",
            "_view_count": null,
            "_view_module": "@jupyter-widgets/base",
            "_view_module_version": "1.2.0",
            "_view_name": "StyleView",
            "bar_color": null,
            "description_width": ""
          }
        },
        "1c4a2ef92032461cba4c725d503b5f65": {
          "model_module": "@jupyter-widgets/base",
          "model_name": "LayoutModel",
          "model_module_version": "1.2.0",
          "state": {
            "_model_module": "@jupyter-widgets/base",
            "_model_module_version": "1.2.0",
            "_model_name": "LayoutModel",
            "_view_count": null,
            "_view_module": "@jupyter-widgets/base",
            "_view_module_version": "1.2.0",
            "_view_name": "LayoutView",
            "align_content": null,
            "align_items": null,
            "align_self": null,
            "border": null,
            "bottom": null,
            "display": null,
            "flex": null,
            "flex_flow": null,
            "grid_area": null,
            "grid_auto_columns": null,
            "grid_auto_flow": null,
            "grid_auto_rows": null,
            "grid_column": null,
            "grid_gap": null,
            "grid_row": null,
            "grid_template_areas": null,
            "grid_template_columns": null,
            "grid_template_rows": null,
            "height": null,
            "justify_content": null,
            "justify_items": null,
            "left": null,
            "margin": null,
            "max_height": null,
            "max_width": null,
            "min_height": null,
            "min_width": null,
            "object_fit": null,
            "object_position": null,
            "order": null,
            "overflow": null,
            "overflow_x": null,
            "overflow_y": null,
            "padding": null,
            "right": null,
            "top": null,
            "visibility": null,
            "width": null
          }
        },
        "79863396ec594af1ae39298d8b0a4669": {
          "model_module": "@jupyter-widgets/controls",
          "model_name": "DescriptionStyleModel",
          "model_module_version": "1.5.0",
          "state": {
            "_model_module": "@jupyter-widgets/controls",
            "_model_module_version": "1.5.0",
            "_model_name": "DescriptionStyleModel",
            "_view_count": null,
            "_view_module": "@jupyter-widgets/base",
            "_view_module_version": "1.2.0",
            "_view_name": "StyleView",
            "description_width": ""
          }
        },
        "d39c7ca170524f429ad18ad2cd33fb82": {
          "model_module": "@jupyter-widgets/controls",
          "model_name": "HBoxModel",
          "model_module_version": "1.5.0",
          "state": {
            "_dom_classes": [],
            "_model_module": "@jupyter-widgets/controls",
            "_model_module_version": "1.5.0",
            "_model_name": "HBoxModel",
            "_view_count": null,
            "_view_module": "@jupyter-widgets/controls",
            "_view_module_version": "1.5.0",
            "_view_name": "HBoxView",
            "box_style": "",
            "children": [
              "IPY_MODEL_18bb08bb68cb458dbb51a97378946885",
              "IPY_MODEL_b8ba49174f9e44879ff75c68d4a557de",
              "IPY_MODEL_c94cd13e8eec4331aa45166153af5359"
            ],
            "layout": "IPY_MODEL_5b772d725b6342fc8ac01324c1ed8f36"
          }
        },
        "18bb08bb68cb458dbb51a97378946885": {
          "model_module": "@jupyter-widgets/controls",
          "model_name": "HTMLModel",
          "model_module_version": "1.5.0",
          "state": {
            "_dom_classes": [],
            "_model_module": "@jupyter-widgets/controls",
            "_model_module_version": "1.5.0",
            "_model_name": "HTMLModel",
            "_view_count": null,
            "_view_module": "@jupyter-widgets/controls",
            "_view_module_version": "1.5.0",
            "_view_name": "HTMLView",
            "description": "",
            "description_tooltip": null,
            "layout": "IPY_MODEL_0432cd4ca05646cc873b04f99faf2d32",
            "placeholder": "​",
            "style": "IPY_MODEL_d3968c3a66484c6a970960bfe7cb9a8b",
            "value": "Running Evaluation: 100%"
          }
        },
        "b8ba49174f9e44879ff75c68d4a557de": {
          "model_module": "@jupyter-widgets/controls",
          "model_name": "FloatProgressModel",
          "model_module_version": "1.5.0",
          "state": {
            "_dom_classes": [],
            "_model_module": "@jupyter-widgets/controls",
            "_model_module_version": "1.5.0",
            "_model_name": "FloatProgressModel",
            "_view_count": null,
            "_view_module": "@jupyter-widgets/controls",
            "_view_module_version": "1.5.0",
            "_view_name": "ProgressView",
            "bar_style": "success",
            "description": "",
            "description_tooltip": null,
            "layout": "IPY_MODEL_1947ec3af2fc418691112b3138dc71e1",
            "max": 13,
            "min": 0,
            "orientation": "horizontal",
            "style": "IPY_MODEL_e65a4ab5bb4d495ba2d9dceb6a11bbd6",
            "value": 13
          }
        },
        "c94cd13e8eec4331aa45166153af5359": {
          "model_module": "@jupyter-widgets/controls",
          "model_name": "HTMLModel",
          "model_module_version": "1.5.0",
          "state": {
            "_dom_classes": [],
            "_model_module": "@jupyter-widgets/controls",
            "_model_module_version": "1.5.0",
            "_model_name": "HTMLModel",
            "_view_count": null,
            "_view_module": "@jupyter-widgets/controls",
            "_view_module_version": "1.5.0",
            "_view_name": "HTMLView",
            "description": "",
            "description_tooltip": null,
            "layout": "IPY_MODEL_771d2d60aa874e34a812a532e436ce28",
            "placeholder": "​",
            "style": "IPY_MODEL_12b63061781040cd85f42f6195c62b3b",
            "value": " 13/13 [00:03&lt;00:00,  7.37it/s]"
          }
        },
        "5b772d725b6342fc8ac01324c1ed8f36": {
          "model_module": "@jupyter-widgets/base",
          "model_name": "LayoutModel",
          "model_module_version": "1.2.0",
          "state": {
            "_model_module": "@jupyter-widgets/base",
            "_model_module_version": "1.2.0",
            "_model_name": "LayoutModel",
            "_view_count": null,
            "_view_module": "@jupyter-widgets/base",
            "_view_module_version": "1.2.0",
            "_view_name": "LayoutView",
            "align_content": null,
            "align_items": null,
            "align_self": null,
            "border": null,
            "bottom": null,
            "display": null,
            "flex": null,
            "flex_flow": null,
            "grid_area": null,
            "grid_auto_columns": null,
            "grid_auto_flow": null,
            "grid_auto_rows": null,
            "grid_column": null,
            "grid_gap": null,
            "grid_row": null,
            "grid_template_areas": null,
            "grid_template_columns": null,
            "grid_template_rows": null,
            "height": null,
            "justify_content": null,
            "justify_items": null,
            "left": null,
            "margin": null,
            "max_height": null,
            "max_width": null,
            "min_height": null,
            "min_width": null,
            "object_fit": null,
            "object_position": null,
            "order": null,
            "overflow": null,
            "overflow_x": null,
            "overflow_y": null,
            "padding": null,
            "right": null,
            "top": null,
            "visibility": null,
            "width": null
          }
        },
        "0432cd4ca05646cc873b04f99faf2d32": {
          "model_module": "@jupyter-widgets/base",
          "model_name": "LayoutModel",
          "model_module_version": "1.2.0",
          "state": {
            "_model_module": "@jupyter-widgets/base",
            "_model_module_version": "1.2.0",
            "_model_name": "LayoutModel",
            "_view_count": null,
            "_view_module": "@jupyter-widgets/base",
            "_view_module_version": "1.2.0",
            "_view_name": "LayoutView",
            "align_content": null,
            "align_items": null,
            "align_self": null,
            "border": null,
            "bottom": null,
            "display": null,
            "flex": null,
            "flex_flow": null,
            "grid_area": null,
            "grid_auto_columns": null,
            "grid_auto_flow": null,
            "grid_auto_rows": null,
            "grid_column": null,
            "grid_gap": null,
            "grid_row": null,
            "grid_template_areas": null,
            "grid_template_columns": null,
            "grid_template_rows": null,
            "height": null,
            "justify_content": null,
            "justify_items": null,
            "left": null,
            "margin": null,
            "max_height": null,
            "max_width": null,
            "min_height": null,
            "min_width": null,
            "object_fit": null,
            "object_position": null,
            "order": null,
            "overflow": null,
            "overflow_x": null,
            "overflow_y": null,
            "padding": null,
            "right": null,
            "top": null,
            "visibility": null,
            "width": null
          }
        },
        "d3968c3a66484c6a970960bfe7cb9a8b": {
          "model_module": "@jupyter-widgets/controls",
          "model_name": "DescriptionStyleModel",
          "model_module_version": "1.5.0",
          "state": {
            "_model_module": "@jupyter-widgets/controls",
            "_model_module_version": "1.5.0",
            "_model_name": "DescriptionStyleModel",
            "_view_count": null,
            "_view_module": "@jupyter-widgets/base",
            "_view_module_version": "1.2.0",
            "_view_name": "StyleView",
            "description_width": ""
          }
        },
        "1947ec3af2fc418691112b3138dc71e1": {
          "model_module": "@jupyter-widgets/base",
          "model_name": "LayoutModel",
          "model_module_version": "1.2.0",
          "state": {
            "_model_module": "@jupyter-widgets/base",
            "_model_module_version": "1.2.0",
            "_model_name": "LayoutModel",
            "_view_count": null,
            "_view_module": "@jupyter-widgets/base",
            "_view_module_version": "1.2.0",
            "_view_name": "LayoutView",
            "align_content": null,
            "align_items": null,
            "align_self": null,
            "border": null,
            "bottom": null,
            "display": null,
            "flex": null,
            "flex_flow": null,
            "grid_area": null,
            "grid_auto_columns": null,
            "grid_auto_flow": null,
            "grid_auto_rows": null,
            "grid_column": null,
            "grid_gap": null,
            "grid_row": null,
            "grid_template_areas": null,
            "grid_template_columns": null,
            "grid_template_rows": null,
            "height": null,
            "justify_content": null,
            "justify_items": null,
            "left": null,
            "margin": null,
            "max_height": null,
            "max_width": null,
            "min_height": null,
            "min_width": null,
            "object_fit": null,
            "object_position": null,
            "order": null,
            "overflow": null,
            "overflow_x": null,
            "overflow_y": null,
            "padding": null,
            "right": null,
            "top": null,
            "visibility": null,
            "width": null
          }
        },
        "e65a4ab5bb4d495ba2d9dceb6a11bbd6": {
          "model_module": "@jupyter-widgets/controls",
          "model_name": "ProgressStyleModel",
          "model_module_version": "1.5.0",
          "state": {
            "_model_module": "@jupyter-widgets/controls",
            "_model_module_version": "1.5.0",
            "_model_name": "ProgressStyleModel",
            "_view_count": null,
            "_view_module": "@jupyter-widgets/base",
            "_view_module_version": "1.2.0",
            "_view_name": "StyleView",
            "bar_color": null,
            "description_width": ""
          }
        },
        "771d2d60aa874e34a812a532e436ce28": {
          "model_module": "@jupyter-widgets/base",
          "model_name": "LayoutModel",
          "model_module_version": "1.2.0",
          "state": {
            "_model_module": "@jupyter-widgets/base",
            "_model_module_version": "1.2.0",
            "_model_name": "LayoutModel",
            "_view_count": null,
            "_view_module": "@jupyter-widgets/base",
            "_view_module_version": "1.2.0",
            "_view_name": "LayoutView",
            "align_content": null,
            "align_items": null,
            "align_self": null,
            "border": null,
            "bottom": null,
            "display": null,
            "flex": null,
            "flex_flow": null,
            "grid_area": null,
            "grid_auto_columns": null,
            "grid_auto_flow": null,
            "grid_auto_rows": null,
            "grid_column": null,
            "grid_gap": null,
            "grid_row": null,
            "grid_template_areas": null,
            "grid_template_columns": null,
            "grid_template_rows": null,
            "height": null,
            "justify_content": null,
            "justify_items": null,
            "left": null,
            "margin": null,
            "max_height": null,
            "max_width": null,
            "min_height": null,
            "min_width": null,
            "object_fit": null,
            "object_position": null,
            "order": null,
            "overflow": null,
            "overflow_x": null,
            "overflow_y": null,
            "padding": null,
            "right": null,
            "top": null,
            "visibility": null,
            "width": null
          }
        },
        "12b63061781040cd85f42f6195c62b3b": {
          "model_module": "@jupyter-widgets/controls",
          "model_name": "DescriptionStyleModel",
          "model_module_version": "1.5.0",
          "state": {
            "_model_module": "@jupyter-widgets/controls",
            "_model_module_version": "1.5.0",
            "_model_name": "DescriptionStyleModel",
            "_view_count": null,
            "_view_module": "@jupyter-widgets/base",
            "_view_module_version": "1.2.0",
            "_view_name": "StyleView",
            "description_width": ""
          }
        }
      }
    }
  },
  "cells": [
    {
      "cell_type": "code",
      "source": [
        "!pip install simpletransformers\n",
        "!pip install scikit-learn"
      ],
      "metadata": {
        "id": "M5uhmF59P8D2"
      },
      "execution_count": null,
      "outputs": []
    },
    {
      "cell_type": "code",
      "execution_count": 2,
      "metadata": {
        "id": "MfY74eTpPumI"
      },
      "outputs": [],
      "source": [
        "from simpletransformers.ner import NERModel, NERArgs"
      ]
    },
    {
      "cell_type": "code",
      "source": [
        "from google.colab import drive\n",
        "drive.mount('/content/gdrive')"
      ],
      "metadata": {
        "id": "hiq-TncA9FUk",
        "colab": {
          "base_uri": "https://localhost:8080/"
        },
        "outputId": "b87220a4-51c9-4399-b8be-d7fd40b2bad9"
      },
      "execution_count": 3,
      "outputs": [
        {
          "output_type": "stream",
          "name": "stdout",
          "text": [
            "Mounted at /content/gdrive\n"
          ]
        }
      ]
    },
    {
      "cell_type": "code",
      "source": [
        "%cd /content/gdrive/MyDrive\n",
        "%cp -av best_model /content/model"
      ],
      "metadata": {
        "id": "uEE6ZRiT98MM",
        "colab": {
          "base_uri": "https://localhost:8080/"
        },
        "outputId": "98f7d356-6b69-4fb0-ce8d-3e724ac69952"
      },
      "execution_count": 4,
      "outputs": [
        {
          "output_type": "stream",
          "name": "stdout",
          "text": [
            "/content/gdrive/MyDrive\n",
            "'best_model' -> '/content/model'\n",
            "'best_model/config.json' -> '/content/model/config.json'\n",
            "'best_model/special_tokens_map.json' -> '/content/model/special_tokens_map.json'\n",
            "'best_model/tokenizer_config.json' -> '/content/model/tokenizer_config.json'\n",
            "'best_model/sentencepiece.bpe.model' -> '/content/model/sentencepiece.bpe.model'\n",
            "'best_model/pytorch_model.bin' -> '/content/model/pytorch_model.bin'\n",
            "'best_model/training_args.bin' -> '/content/model/training_args.bin'\n",
            "'best_model/model_args.json' -> '/content/model/model_args.json'\n",
            "'best_model/eval_results.txt' -> '/content/model/eval_results.txt'\n",
            "'best_model/optimizer.pt' -> '/content/model/optimizer.pt'\n",
            "'best_model/scheduler.pt' -> '/content/model/scheduler.pt'\n"
          ]
        }
      ]
    },
    {
      "cell_type": "code",
      "source": [
        "_NER_TAGS = ['0', '1']\n",
        "Threshold = 0.5\n",
        "args = NERArgs()\n",
        "args = {\n",
        "    \"threshold\": Threshold\n",
        "}\n",
        "model = NERModel(\n",
        "    model_name=\"/content/model\",\n",
        "    model_type=\"camembert\",\n",
        "    args=args\n",
        ")"
      ],
      "metadata": {
        "colab": {
          "base_uri": "https://localhost:8080/"
        },
        "id": "7r0s0vpT8T1a",
        "outputId": "bbaede62-7388-4df3-c6b0-07016f0f9ed0"
      },
      "execution_count": 5,
      "outputs": [
        {
          "output_type": "stream",
          "name": "stderr",
          "text": [
            "/usr/local/lib/python3.10/dist-packages/simpletransformers/ner/ner_model.py:433: UserWarning: use_multiprocessing automatically disabled as CamemBERT fails when using multiprocessing for feature conversion.\n",
            "  warnings.warn(\n"
          ]
        }
      ]
    },
    {
      "cell_type": "code",
      "source": [
        "import pandas as pd\n",
        "import ast\n",
        "df = pd.read_excel(\"/content/Final_ner_test.xlsx\")\n",
        "test_lst = []\n",
        "# trainset\n",
        "for k in df.index:\n",
        "  id = df['ID'][k].replace('[','').replace(']','').split(\",\")\n",
        "  token = df['Tokenizer'][k]\n",
        "  token = ast.literal_eval(token)\n",
        "  for i in range(len(id)):\n",
        "    test_lst.append([k,token[i],str(int(id[i]))])\n",
        "test_data = test_lst\n",
        "test_data = pd.DataFrame(\n",
        "    test_data, columns=[\"sentence_id\", \"words\", \"labels\"]\n",
        ")\n",
        "eval_data = test_data\n",
        "result, model_outputs, preds_list = model.eval_model(eval_data)"
      ],
      "metadata": {
        "id": "k7esDL2hNeI8",
        "colab": {
          "base_uri": "https://localhost:8080/",
          "height": 309,
          "referenced_widgets": [
            "d740e4167e6a4af28891a3b326d92c70",
            "63ac97cb600e4057ae0068ec0459eea6",
            "c2cabd5136484ca183a0503b63370ee2",
            "10190b62a7c944c58c5b7c78304e599c",
            "f24ba979346e4c6ca530e065115e1754",
            "e4aa93c802ec43ef949962872c2c8a64",
            "9797c4e6e9e64731957781df79e6cb0b",
            "5065f5133c3c41859d5a538433d8e15a",
            "e49ee0f1315648a5ba2f686ffcc492b5",
            "1c4a2ef92032461cba4c725d503b5f65",
            "79863396ec594af1ae39298d8b0a4669",
            "d39c7ca170524f429ad18ad2cd33fb82",
            "18bb08bb68cb458dbb51a97378946885",
            "b8ba49174f9e44879ff75c68d4a557de",
            "c94cd13e8eec4331aa45166153af5359",
            "5b772d725b6342fc8ac01324c1ed8f36",
            "0432cd4ca05646cc873b04f99faf2d32",
            "d3968c3a66484c6a970960bfe7cb9a8b",
            "1947ec3af2fc418691112b3138dc71e1",
            "e65a4ab5bb4d495ba2d9dceb6a11bbd6",
            "771d2d60aa874e34a812a532e436ce28",
            "12b63061781040cd85f42f6195c62b3b"
          ]
        },
        "outputId": "5586311f-2694-4e0e-c86d-0d3f2512d8cb"
      },
      "execution_count": 6,
      "outputs": [
        {
          "output_type": "stream",
          "name": "stderr",
          "text": [
            "/usr/local/lib/python3.10/dist-packages/simpletransformers/ner/ner_utils.py:190: FutureWarning: In a future version of pandas, a length 1 tuple will be returned when iterating over a groupby with a grouper equal to a list of length 1. Don't supply a list with a single grouper to avoid this warning.\n",
            "  return [\n"
          ]
        },
        {
          "output_type": "display_data",
          "data": {
            "text/plain": [
              "  0%|          | 0/1 [00:00<?, ?it/s]"
            ],
            "application/vnd.jupyter.widget-view+json": {
              "version_major": 2,
              "version_minor": 0,
              "model_id": "d740e4167e6a4af28891a3b326d92c70"
            }
          },
          "metadata": {}
        },
        {
          "output_type": "display_data",
          "data": {
            "text/plain": [
              "Running Evaluation:   0%|          | 0/13 [00:00<?, ?it/s]"
            ],
            "application/vnd.jupyter.widget-view+json": {
              "version_major": 2,
              "version_minor": 0,
              "model_id": "d39c7ca170524f429ad18ad2cd33fb82"
            }
          },
          "metadata": {}
        },
        {
          "output_type": "stream",
          "name": "stderr",
          "text": [
            "/usr/local/lib/python3.10/dist-packages/seqeval/metrics/sequence_labeling.py:171: UserWarning: 0 seems not to be NE tag.\n",
            "  warnings.warn('{} seems not to be NE tag.'.format(chunk))\n",
            "/usr/local/lib/python3.10/dist-packages/seqeval/metrics/sequence_labeling.py:171: UserWarning: 1 seems not to be NE tag.\n",
            "  warnings.warn('{} seems not to be NE tag.'.format(chunk))\n",
            "/usr/local/lib/python3.10/dist-packages/seqeval/metrics/v1.py:57: UndefinedMetricWarning: Precision is ill-defined and being set to 0.0 due to no predicted samples. Use `zero_division` parameter to control this behavior.\n",
            "  _warn_prf(average, modifier, msg_start, len(result))\n",
            "/usr/local/lib/python3.10/dist-packages/seqeval/metrics/v1.py:57: UndefinedMetricWarning: Recall is ill-defined and being set to 0.0 due to no true samples. Use `zero_division` parameter to control this behavior.\n",
            "  _warn_prf(average, modifier, msg_start, len(result))\n",
            "/usr/local/lib/python3.10/dist-packages/seqeval/metrics/v1.py:159: UndefinedMetricWarning: F-score is ill-defined and being set to 0.0 due to no true nor predicted samples. Use `zero_division` parameter to control this behavior.\n",
            "  _warn_prf(\n"
          ]
        }
      ]
    },
    {
      "cell_type": "code",
      "source": [
        "import matplotlib.pyplot as plt\n",
        "import numpy as np\n",
        "import seaborn as sns\n",
        "from sklearn.metrics import confusion_matrix\n",
        "eval_labels = eval_data['labels']\n",
        "class_names = [\"0\",\"1\"]\n",
        "preds_flat = [pred for preds in preds_list for pred in preds]\n",
        "min_length = min(len(eval_labels), len(preds_flat))\n",
        "eval_labels = eval_labels[:min_length]\n",
        "preds_flat = preds_flat[:min_length]\n",
        "cm = confusion_matrix(eval_labels, preds_flat)\n",
        "print(\"Confusion Matrix:\")\n",
        "print(cm)\n",
        "fig, ax = plt.subplots(figsize=(8, 6))\n",
        "heatmap = sns.heatmap(cm, annot=True, fmt='d', cmap='Blues', cbar=False, ax=ax)\n",
        "ax.set_xlabel('Predicted')\n",
        "ax.set_ylabel('True')\n",
        "ax.set_title(f'Confusion Matrix (Threshold ={Threshold:.2f})')\n",
        "heatmap.set_xticklabels(class_names, rotation=45)\n",
        "heatmap.set_yticklabels(class_names, rotation=0)\n",
        "cbar = ax.figure.colorbar(heatmap.collections[0])\n",
        "plt.tight_layout()\n",
        "plt.show()"
      ],
      "metadata": {
        "id": "eDHk7roJSh3E",
        "colab": {
          "base_uri": "https://localhost:8080/",
          "height": 659
        },
        "outputId": "a795b574-492d-46ea-adc5-186539436c07"
      },
      "execution_count": 7,
      "outputs": [
        {
          "output_type": "stream",
          "name": "stdout",
          "text": [
            "Confusion Matrix:\n",
            "[[1907   19]\n",
            " [ 101  158]]\n"
          ]
        },
        {
          "output_type": "display_data",
          "data": {
            "text/plain": [
              "<Figure size 800x600 with 2 Axes>"
            ],
            "image/png": "[encoded data removed]"
          },
          "metadata": {}
        }
      ]
    },
    {
      "cell_type": "code",
      "source": [
        "import seaborn as sns\n",
        "import matplotlib.pyplot as plt\n",
        "from sklearn.metrics import classification_report\n",
        "labels_true = []\n",
        "labels_pred = []\n",
        "total = 0\n",
        "for i in range(len(preds_list)):\n",
        "    for k in range(len(preds_list[i])):\n",
        "        labels_true.append(test_data['labels'][total])\n",
        "        labels_pred.append(preds_list[i][k])\n",
        "        total += 1\n",
        "report = classification_report(labels_true, labels_pred, output_dict=True)\n",
        "report_df = pd.DataFrame(report).transpose()\n",
        "report_df.drop('support', axis=1, inplace=True)\n",
        "report_df.drop('accuracy', axis=0, inplace=True)\n",
        "report_df.drop('macro avg', axis=0, inplace=True)\n",
        "plt.figure(figsize=(8, 6))\n",
        "sns.heatmap(report_df.iloc[:-1, :], annot=True, fmt='.3f', cmap='YlGnBu')\n",
        "plt.title(f'Classification Report (Threshold = {Threshold:.2f})')\n",
        "plt.ylabel('Metrics')\n",
        "plt.xlabel('Classes')\n",
        "plt.show()"
      ],
      "metadata": {
        "id": "80CBEOflFaJa"
      },
      "execution_count": null,
      "outputs": []
    },
    {
      "cell_type": "code",
      "source": [
        "import pandas as pd\n",
        "\n",
        "# eval_data = test_data\n",
        "# result, model_outputs, preds_list = model.eval_model(eval_data)\n",
        "correct = 0\n",
        "x = 0\n",
        "k = 0\n",
        "wrong_prediction = []\n",
        "actual_label = []\n",
        "wrong_word = []\n",
        "\n",
        "for i in range(len(preds_list)):\n",
        "    for k in range(len(preds_list[i])):\n",
        "        if preds_list[i][k] == test_data['labels'][x]:\n",
        "            correct += 1\n",
        "        else:\n",
        "            wrong_prediction.append(preds_list[i][k])\n",
        "            wrong_word.append(test_data['words'][x])\n",
        "            actual_label.append(test_data['labels'][x])\n",
        "        x += 1\n",
        "\n",
        "print(f'len wrong-prediction: {len(wrong_prediction)}, 1: {wrong_prediction.count(\"1\")}, 0: {wrong_prediction.count(\"0\")}')\n",
        "\n",
        "# Create a DataFrame with the wrong predictions, actual labels, and words\n",
        "df = pd.DataFrame({'Actual Label': actual_label, 'Predicted Label': wrong_prediction, 'Word': wrong_word})\n",
        "# /content/Final_ner_test.xlsx\n",
        "# Save the DataFrame to a CSV file\n",
        "df.to_csv('/content/Wrong_Predictions.csv', index=False, encoding='utf-8-sig')\n",
        "\n",
        "print(\"CSV file 'wrong_predictions.csv' saved successfully.\")\n"
      ],
      "metadata": {
        "id": "3vt62z9RdRYb"
      },
      "execution_count": null,
      "outputs": []
    },
    {
      "cell_type": "code",
      "source": [
        "from sklearn.metrics import classification_report\n",
        "\n",
        "# eval_data = test_data\n",
        "# result, model_outputs, preds_list = model.eval_model(eval_data)\n",
        "\n",
        "labels_true = []\n",
        "labels_pred = []\n",
        "\n",
        "total = 0  # Initialize total\n",
        "\n",
        "for i in range(len(preds_list)):\n",
        "    for k in range(len(preds_list[i])):\n",
        "        labels_true.append(test_data['labels'][total])\n",
        "        labels_pred.append(preds_list[i][k])\n",
        "        total += 1\n",
        "\n",
        "report = classification_report(labels_true, labels_pred)\n",
        "print(report)"
      ],
      "metadata": {
        "id": "yN_5WFIGKbAo"
      },
      "execution_count": null,
      "outputs": []
    },
    {
      "cell_type": "code",
      "source": [
        "predictions, raw_outputs = model.predict([\"ตู้เหล็กแบบ 2 บาน จำนวน 2 ตู้ โดยมีคุณลักษณะ ดังนี้ (1) มีมือจับชนิดผลัก (2) มีแผ่นชั้นปรับระดับ 3 ชิ้น (3) ฐานของตู้เหล็กมีความยาว 2 เมตร (4) มีระบบ noice system (5) สามารถกันนิวเคลียร์ได้ (6) มีลายกระหนก\"])\n",
        "print(predictions)"
      ],
      "metadata": {
        "id": "0Udkl7t2QNzO"
      },
      "execution_count": null,
      "outputs": []
    }
  ]
}
