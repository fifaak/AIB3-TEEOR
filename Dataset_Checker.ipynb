{
  "nbformat": 4,
  "nbformat_minor": 0,
  "metadata": {
    "colab": {
      "provenance": []
    },
    "kernelspec": {
      "name": "python3",
      "display_name": "Python 3"
    },
    "language_info": {
      "name": "python"
    }
  },
  "cells": [
    {
      "cell_type": "code",
      "source": [
        "!pip install pandas seaborn"
      ],
      "metadata": {
        "id": "X29v51AagJcF"
      },
      "execution_count": null,
      "outputs": []
    },
    {
      "cell_type": "code",
      "source": [
        "import pandas as pd\n",
        "import seaborn as sns\n",
        "import matplotlib.pyplot as plt\n",
        "\n",
        "# Load the Excel file into a DataFrame\n",
        "File = '/content/Final_ner_test.xlsx'\n",
        "df = pd.read_excel(File)\n",
        "\n",
        "# Extract the three columns of interest from the DataFrame\n",
        "# Count the occurrences of label 0 and label 1 in the 'Label' column\n",
        "label_counts = df['Label'].value_counts()\n",
        "\n",
        "\n",
        "# Plot the label counts using Seaborn\n",
        "plt.figure(figsize=(6, 4))\n",
        "ax = sns.barplot(x=label_counts.index, y=label_counts.values)\n",
        "plt.xlabel('Label')\n",
        "plt.ylabel('Count')\n",
        "plt.title(f'Label Counts ({File.split(\"/\")[-1]})')\n",
        "\n",
        "# Add count values as text on top of the bars\n",
        "for i, count in enumerate(label_counts.values):\n",
        "    ax.text(i, count + 1, str(count), ha='center')\n",
        "\n",
        "plt.show()"
      ],
      "metadata": {
        "id": "Mz4iQQUEgL-z"
      },
      "execution_count": null,
      "outputs": []
    },
    {
      "cell_type": "code",
      "source": [
        "def convert_data(tokenize):\n",
        "  i=0\n",
        "  j=0\n",
        "  tokenize = tokenize.replace(\"[\",\"\").replace(\"]\",\"\")+\",a,stopx\"\n",
        "  before = \"a\"\n",
        "  wrong_index = []\n",
        "  tokenize = tokenize.split(\",\")\n",
        "  data = tokenize\n",
        "  while (data[i]!=\"stopx\"):\n",
        "    if (data[i][0].isdigit() == True) and before[-1].isdigit() == True and (len(data[i])>1) and (data[i][1].isdigit() == True):\n",
        "      \n",
        "        \n",
        "      data[i-1:i+1] = [','.join(data[i-1:i+1])]\n",
        "   \n",
        "    before = data[i]\n",
        "    i+=1\n",
        "  \n",
        "\n",
        "  while (data[j]!=\"stopx\"):\n",
        "    if (before[-1].isdigit() == True):\n",
        "      if(len(data[j])>1) and (data[j][1].isdigit() == True):\n",
        "        data[j-1:j+1] = [','.join(data[j-1:j+1])]\n",
        "        \n",
        "    before = data[j]\n",
        "    j+=1\n",
        "  del data[-1]\n",
        "  del data[-1]\n",
        "  return data"
      ],
      "metadata": {
        "id": "_b0NfjjUA3SW"
      },
      "execution_count": null,
      "outputs": []
    },
    {
      "cell_type": "code",
      "source": [
        "#@title BOEING\n",
        "# นับจำนวน tokenize\n",
        "#version สมบูรณ์\n",
        "\n",
        "tokenize = '''[1.,ขนาดที่กำหนดเป็นขนาดไม่ต่ำกว่า,34,000,บีทียู ,2.,ราคาที่กำหนดเป็นราคารวมค่าติดตั้ง,3.,เครื่องปรับอากาศที่มีความสามารถในการทำความเย็นขนาดไม่เกิน40,000,บีทียู,ต้องได้รับการรับรองมาตรฐานผลิตอุตสาหกรรม,และ,ฉลากประหยัดไฟฟ้าเบอร์ 5,4.,ต้องเป็นเครื่องปรับอากาศที่ประกอบสำเร็จรูปทั้งชุด ทั้งหน่วยส่งความเย็นและหน่วยระบายความร้อนจากโรงงานเดียวกัน,5.,มีความหน่วงเวลาการทำงานของคอมเพรสเซอร์,6.,การจัดซื้อเครื่องปรับอากาศขนาดอื่นๆ (นอกจากข้อ3) นอกเหนือจากกการพิจารณาด้านราคาแล้วเพื่อเป็นการประหยัดพลังงานควรพิจารณาจัดซื้อเครื่องปรับอากาศที่มีค่าประสิทธิภาพพลังงานตามฤดูกาล (SEER) สูงกว่า,7.,การติดตั้งเครื่องปรับอากาศ (1) แบบแยกส่วน ประกอบด้วยอุปกรณ์ ดังนี้ สวิตซ์ 1 ตัว ท่อทองแดงไปกลับหุ้มฉนวนยาว 4 เมตร สายไฟยาวไม่เกิน 15 เมตร,8.,ค่าติดตั้งเครื่องปรับอากาศ (กรณีต้องการแสดงค่าติดตั้งแยกจากราคาเครื่องปรับอากาศ) (2) ชนิดตั้งพื้นหรือชนิดแขวน ขนาดไม่ต่ำกว่า 13,000 บีทียู 4,000 บาท ขนาดไม่ต่ำกว่า 40,000 บีทียู 5,500 บาท]'''\n",
        "def convert_data(tokenize):\n",
        "  i=0\n",
        "  j=0\n",
        "  tokenize = tokenize.replace(\"[\",\"\").replace(\"]\",\"\")+\",stop\"\n",
        "  before = \"a\"\n",
        "  wrong_index = []\n",
        "  tokenize = tokenize.split(\",\")\n",
        "  data = tokenize\n",
        "  while (data[i]!=\"stop\"):\n",
        "    if (data[i][0].isdigit() == True) and before[-1].isdigit() == True and (len(data[i])>1) and (data[i][1].isdigit() == True):\n",
        "      \n",
        "        \n",
        "      data[i-1:i+1] = [','.join(data[i-1:i+1])]\n",
        "   \n",
        "    before = data[i]\n",
        "    i+=1\n",
        "  \n",
        "\n",
        "  while (data[j]!=\"stop\"):\n",
        "    if (before[-1].isdigit() == True):\n",
        "      if(len(data[j])>1) and (data[j][1].isdigit() == True):\n",
        "        data[j-1:j+1] = [','.join(data[j-1:j+1])]\n",
        "        \n",
        "    before = data[j]\n",
        "    j+=1\n",
        "   \n",
        "  del data[-1]\n",
        "  return data\n",
        "print((convert_data(tokenize)))"
      ],
      "metadata": {
        "id": "MW4IDLWYYHKi"
      },
      "execution_count": null,
      "outputs": []
    },
    {
      "cell_type": "code",
      "execution_count": null,
      "metadata": {
        "id": "ShA1fhRuXo87",
        "colab": {
          "base_uri": "https://localhost:8080/"
        },
        "outputId": "120130e2-6dad-41e0-8a7a-517c14181483",
        "cellView": "code"
      },
      "outputs": [
        {
          "output_type": "stream",
          "name": "stdout",
          "text": [
            "32\n"
          ]
        }
      ],
      "source": [
        "#@title BOEING\n",
        "#นับจำนวน ID\n",
        " #ใส่id เช่น [0,1,0,0,0,1] , [0,0,0,0,0,0,1]\n",
        "id = [0, 0, 0, 0, 0, 0, 0, 0, 0, 0, 0, 0, 0, 0, 0, 0, 0, 0, 0, 1, 1, 0, 1, 1, 1, 1, 0, 0, 1, 1, 1]\n",
        "print(len(id)+1)"
      ]
    },
    {
      "cell_type": "code",
      "source": [
        "# นับจำนวน token\n",
        "tokenize = ['(3)', 'ใบมีด', 'แบบ', 'Ricol', '(4)', 'สามารถ', 'ทำลาย', 'CD', 'ชนิด', 'AAG', 'ได้', 'เครื่องทำลายเอกสารเเบบตัด', 'ละเอียด', 'โดย', 'มี', 'คุณลักษณะ', 'ดังนี้', '(1)', 'ทำลาย', 'ขั้นต่ำ', 'ครั้งละ', '40', 'แผ่น', '(2)', 'ขนาดกระดาษหลังทำลายกว้าง', 'ระหว่าง', '3-5', 'มิลลิเมตร', 'และ', 'ความยาว', 'ระหว่าง', '25-40', 'มิลลิเมตร']\n",
        "print(len(tokenize)+1)"
      ],
      "metadata": {
        "colab": {
          "base_uri": "https://localhost:8080/"
        },
        "id": "ZKsXtlDZSJfG",
        "outputId": "abade302-4c2c-4757-e76b-31e8a6229dbd"
      },
      "execution_count": null,
      "outputs": [
        {
          "output_type": "stream",
          "name": "stdout",
          "text": [
            "34\n"
          ]
        }
      ]
    },
    {
      "cell_type": "code",
      "source": [
        "#@title TORDDD\n",
        "#นับจำนวน ID\n",
        "id =[0, 0, 0, 0, 0, 0, 0, 1, 0, 1, 1, 0, 0, 0, 0, 0, 0, 0, 0, 0, 0, 0]\n",
        "print(len(id)+1)"
      ],
      "metadata": {
        "id": "V9oiv8dMCHJI"
      },
      "execution_count": null,
      "outputs": []
    },
    {
      "cell_type": "code",
      "source": [
        "#@title TORD\n",
        "# นับจำนวน tokenize\n",
        "tokenize = ['เครื่องถ่ายเอกสารระบบดิจิตอลชนิด ขาว-ดำ', 'โดย', 'มี', 'คุณลักษณะ', 'ดังนี้', '(1)', 'รุ่น', 'Omege-369PlusProMax', '(2)', 'เหล็กชนิด', ' Panulso', '(3)', 'ความเร็วขั้นต่ำ', '25', 'แผ่นต่อนาที', '(4)', 'เป็นระบบมัลติฟังก์ชั่น', '(5)', 'เป็น', 'ระบบ', 'กระดาษธรรมดา', 'ชนิดหมึกผง ย่อ-ขยายได้']\n",
        "print(len(tokenize)+1)"
      ],
      "metadata": {
        "id": "XRTr6CaMCIlG"
      },
      "execution_count": null,
      "outputs": []
    },
    {
      "cell_type": "code",
      "source": [
        "import numpy as np\n",
        "import pandas as pd\n",
        "import seaborn as sns\n",
        "df_Train = pd.read_excel(\"/content/Final_ner_train.xlsx\")"
      ],
      "metadata": {
        "id": "HESNrpa9YYP4"
      },
      "execution_count": null,
      "outputs": []
    },
    {
      "cell_type": "code",
      "source": [
        "df_Train.head()"
      ],
      "metadata": {
        "id": "mKf6sNVNaoWj",
        "colab": {
          "base_uri": "https://localhost:8080/",
          "height": 206
        },
        "outputId": "d59341a0-3893-4530-a13b-b179c2022610"
      },
      "execution_count": null,
      "outputs": [
        {
          "output_type": "execute_result",
          "data": {
            "text/plain": [
              "   Label                                                 ID  \\\n",
              "0      0  [0, 0, 0, 0, 0, 0, 0, 0, 0, 0, 0, 0, 0, 0, 0, ...   \n",
              "1      0  [0, 0, 0, 0, 0, 0, 0, 0, 0, 0, 0, 0, 0, 0, 0, ...   \n",
              "2      0  [0, 0, 0, 0, 0, 0, 0, 0, 0, 0, 0, 0, 0, 0, 0, ...   \n",
              "3      0               [0, 0, 0, 0, 0, 0, 0, 0, 0, 0, 0, 0]   \n",
              "4      0  [0, 0, 0, 0, 0, 0, 0, 0, 0, 0, 0, 0, 0, 0, 0, ...   \n",
              "\n",
              "                                           Tokenizer  \n",
              "0  ['ตู้เหล็กแบบ 2 บาน', 'จำนวน', '2', 'ตู้', 'โด...  \n",
              "1  ['ตู้เหล็กแบบ 2 บาน', 'จำนวน', '19', 'ตู้', 'โ...  \n",
              "2  ['ตู้เหล็กแบบ 2 บาน', 'จำนวน', '25', 'ตู้', 'โ...  \n",
              "3  ['(1)', 'มี', 'มือจับชนิด', 'บิด', '(2)', 'มี'...  \n",
              "4  ['ตู้เหล็กแบบ 2 บาน', 'จำนวน', '10', 'ตู้', 'โ...  "
            ],
            "text/html": [
              "\n",
              "  <div id=\"df-d207b247-4995-4687-9d8e-94fc31dafc31\">\n",
              "    <div class=\"colab-df-container\">\n",
              "      <div>\n",
              "<style scoped>\n",
              "    .dataframe tbody tr th:only-of-type {\n",
              "        vertical-align: middle;\n",
              "    }\n",
              "\n",
              "    .dataframe tbody tr th {\n",
              "        vertical-align: top;\n",
              "    }\n",
              "\n",
              "    .dataframe thead th {\n",
              "        text-align: right;\n",
              "    }\n",
              "</style>\n",
              "<table border=\"1\" class=\"dataframe\">\n",
              "  <thead>\n",
              "    <tr style=\"text-align: right;\">\n",
              "      <th></th>\n",
              "      <th>Label</th>\n",
              "      <th>ID</th>\n",
              "      <th>Tokenizer</th>\n",
              "    </tr>\n",
              "  </thead>\n",
              "  <tbody>\n",
              "    <tr>\n",
              "      <th>0</th>\n",
              "      <td>0</td>\n",
              "      <td>[0, 0, 0, 0, 0, 0, 0, 0, 0, 0, 0, 0, 0, 0, 0, ...</td>\n",
              "      <td>['ตู้เหล็กแบบ 2 บาน', 'จำนวน', '2', 'ตู้', 'โด...</td>\n",
              "    </tr>\n",
              "    <tr>\n",
              "      <th>1</th>\n",
              "      <td>0</td>\n",
              "      <td>[0, 0, 0, 0, 0, 0, 0, 0, 0, 0, 0, 0, 0, 0, 0, ...</td>\n",
              "      <td>['ตู้เหล็กแบบ 2 บาน', 'จำนวน', '19', 'ตู้', 'โ...</td>\n",
              "    </tr>\n",
              "    <tr>\n",
              "      <th>2</th>\n",
              "      <td>0</td>\n",
              "      <td>[0, 0, 0, 0, 0, 0, 0, 0, 0, 0, 0, 0, 0, 0, 0, ...</td>\n",
              "      <td>['ตู้เหล็กแบบ 2 บาน', 'จำนวน', '25', 'ตู้', 'โ...</td>\n",
              "    </tr>\n",
              "    <tr>\n",
              "      <th>3</th>\n",
              "      <td>0</td>\n",
              "      <td>[0, 0, 0, 0, 0, 0, 0, 0, 0, 0, 0, 0]</td>\n",
              "      <td>['(1)', 'มี', 'มือจับชนิด', 'บิด', '(2)', 'มี'...</td>\n",
              "    </tr>\n",
              "    <tr>\n",
              "      <th>4</th>\n",
              "      <td>0</td>\n",
              "      <td>[0, 0, 0, 0, 0, 0, 0, 0, 0, 0, 0, 0, 0, 0, 0, ...</td>\n",
              "      <td>['ตู้เหล็กแบบ 2 บาน', 'จำนวน', '10', 'ตู้', 'โ...</td>\n",
              "    </tr>\n",
              "  </tbody>\n",
              "</table>\n",
              "</div>\n",
              "      <button class=\"colab-df-convert\" onclick=\"convertToInteractive('df-d207b247-4995-4687-9d8e-94fc31dafc31')\"\n",
              "              title=\"Convert this dataframe to an interactive table.\"\n",
              "              style=\"display:none;\">\n",
              "        \n",
              "  <svg xmlns=\"http://www.w3.org/2000/svg\" height=\"24px\"viewBox=\"0 0 24 24\"\n",
              "       width=\"24px\">\n",
              "    <path d=\"M0 0h24v24H0V0z\" fill=\"none\"/>\n",
              "    <path d=\"M18.56 5.44l.94 2.06.94-2.06 2.06-.94-2.06-.94-.94-2.06-.94 2.06-2.06.94zm-11 1L8.5 8.5l.94-2.06 2.06-.94-2.06-.94L8.5 2.5l-.94 2.06-2.06.94zm10 10l.94 2.06.94-2.06 2.06-.94-2.06-.94-.94-2.06-.94 2.06-2.06.94z\"/><path d=\"M17.41 7.96l-1.37-1.37c-.4-.4-.92-.59-1.43-.59-.52 0-1.04.2-1.43.59L10.3 9.45l-7.72 7.72c-.78.78-.78 2.05 0 2.83L4 21.41c.39.39.9.59 1.41.59.51 0 1.02-.2 1.41-.59l7.78-7.78 2.81-2.81c.8-.78.8-2.07 0-2.86zM5.41 20L4 18.59l7.72-7.72 1.47 1.35L5.41 20z\"/>\n",
              "  </svg>\n",
              "      </button>\n",
              "      \n",
              "  <style>\n",
              "    .colab-df-container {\n",
              "      display:flex;\n",
              "      flex-wrap:wrap;\n",
              "      gap: 12px;\n",
              "    }\n",
              "\n",
              "    .colab-df-convert {\n",
              "      background-color: #E8F0FE;\n",
              "      border: none;\n",
              "      border-radius: 50%;\n",
              "      cursor: pointer;\n",
              "      display: none;\n",
              "      fill: #1967D2;\n",
              "      height: 32px;\n",
              "      padding: 0 0 0 0;\n",
              "      width: 32px;\n",
              "    }\n",
              "\n",
              "    .colab-df-convert:hover {\n",
              "      background-color: #E2EBFA;\n",
              "      box-shadow: 0px 1px 2px rgba(60, 64, 67, 0.3), 0px 1px 3px 1px rgba(60, 64, 67, 0.15);\n",
              "      fill: #174EA6;\n",
              "    }\n",
              "\n",
              "    [theme=dark] .colab-df-convert {\n",
              "      background-color: #3B4455;\n",
              "      fill: #D2E3FC;\n",
              "    }\n",
              "\n",
              "    [theme=dark] .colab-df-convert:hover {\n",
              "      background-color: #434B5C;\n",
              "      box-shadow: 0px 1px 3px 1px rgba(0, 0, 0, 0.15);\n",
              "      filter: drop-shadow(0px 1px 2px rgba(0, 0, 0, 0.3));\n",
              "      fill: #FFFFFF;\n",
              "    }\n",
              "  </style>\n",
              "\n",
              "      <script>\n",
              "        const buttonEl =\n",
              "          document.querySelector('#df-d207b247-4995-4687-9d8e-94fc31dafc31 button.colab-df-convert');\n",
              "        buttonEl.style.display =\n",
              "          google.colab.kernel.accessAllowed ? 'block' : 'none';\n",
              "\n",
              "        async function convertToInteractive(key) {\n",
              "          const element = document.querySelector('#df-d207b247-4995-4687-9d8e-94fc31dafc31');\n",
              "          const dataTable =\n",
              "            await google.colab.kernel.invokeFunction('convertToInteractive',\n",
              "                                                     [key], {});\n",
              "          if (!dataTable) return;\n",
              "\n",
              "          const docLinkHtml = 'Like what you see? Visit the ' +\n",
              "            '<a target=\"_blank\" href=https://colab.research.google.com/notebooks/data_table.ipynb>data table notebook</a>'\n",
              "            + ' to learn more about interactive tables.';\n",
              "          element.innerHTML = '';\n",
              "          dataTable['output_type'] = 'display_data';\n",
              "          await google.colab.output.renderOutput(dataTable, element);\n",
              "          const docLink = document.createElement('div');\n",
              "          docLink.innerHTML = docLinkHtml;\n",
              "          element.appendChild(docLink);\n",
              "        }\n",
              "      </script>\n",
              "    </div>\n",
              "  </div>\n",
              "  "
            ]
          },
          "metadata": {},
          "execution_count": 4
        }
      ]
    },
    {
      "cell_type": "code",
      "source": [
        "zero=0\n",
        "one=0\n",
        "\n",
        "for i in range(len(df_Train)):\n",
        "  zero += df_Train['ID'][i].count('0')\n",
        "  one += df_Train['ID'][i].count('1')\n",
        "print(zero)\n",
        "print(one)"
      ],
      "metadata": {
        "id": "YsLocOwXdLUM"
      },
      "execution_count": null,
      "outputs": []
    },
    {
      "cell_type": "code",
      "source": [
        "one = []\n",
        "zero = []"
      ],
      "metadata": {
        "id": "tulDh1AZhBen"
      },
      "execution_count": null,
      "outputs": []
    },
    {
      "cell_type": "code",
      "source": [
        "one = [int(1) for i in range(one)]\n",
        "print(one)"
      ],
      "metadata": {
        "id": "UqPidAz2g3_W"
      },
      "execution_count": null,
      "outputs": []
    },
    {
      "cell_type": "code",
      "source": [
        "one = [int(1) for i in range(one)]\n",
        "zero = [int(0) for i in range(zero)]\n",
        "mix = list[set(one) | set(zero)]"
      ],
      "metadata": {
        "id": "FKRxYL3mf2RA"
      },
      "execution_count": null,
      "outputs": []
    },
    {
      "cell_type": "code",
      "source": [
        "sns.countplot(x=\"count\", data=lst)"
      ],
      "metadata": {
        "id": "ZYwdYaCMakRF"
      },
      "execution_count": null,
      "outputs": []
    },
    {
      "cell_type": "code",
      "source": [
        "import matplotlib.pyplot as plt\n",
        "import seaborn as sns\n",
        "Label = {0:0,1:0}\n",
        "for i in range(len(df_Train['Label'])):\n",
        "  if df_Train['Label'][i] == 0:\n",
        "    Label[0]+=1\n",
        "  else:\n",
        "    Label[1]+=1\n",
        "\n",
        "\n",
        "\n",
        "colors = sns.color_palette('bright')[0:2]\n",
        "data = Label.values()\n",
        "labels = [\"0\",\"1\"]\n",
        "\n",
        "plt.pie(data, labels = labels, colors = colors, autopct='%.0f%%')\n",
        "plt.show()"
      ],
      "metadata": {
        "id": "Aoh_JFCeoNON"
      },
      "execution_count": null,
      "outputs": []
    },
    {
      "cell_type": "markdown",
      "source": [
        "Data Preparation"
      ],
      "metadata": {
        "id": "7eA3VK4mrV0r"
      }
    },
    {
      "cell_type": "code",
      "source": [
        "for i in range(len(df_Train['Tokenizer'])):\n",
        "   df_Train['Tokenizer'][i]= convert_data(i)\n",
        "df_Train['Tokenizer'][219]\n",
        "\n",
        "#Save to Final_ner_train.xlsx, And final edit"
      ],
      "metadata": {
        "id": "8flGNcR63i9r"
      },
      "execution_count": null,
      "outputs": []
    },
    {
      "cell_type": "code",
      "source": [
        "for i in range(len(df_Train['ID'])):\n",
        "   df_Train['ID'][i]= df_Train['ID'][i].replace(\"[\",\"\").replace(\"]\",\"\").split(',')"
      ],
      "metadata": {
        "id": "8PPdzNtp5Gdc"
      },
      "execution_count": null,
      "outputs": []
    },
    {
      "cell_type": "code",
      "source": [
        "import ast\n",
        "wrong_lst = []\n",
        "\n",
        "for i in range(len(df_Train['Tokenizer'])):\n",
        "  token = df_Train['Tokenizer'][i]\n",
        "  token = ast.literal_eval(token)\n",
        "  if len(token) == len(df_Train['ID'][i]):\n",
        "    print(\"true\")\n",
        "  else:\n",
        "    wrong_lst.append(i)\n",
        "    print(i+2, \". \",\"wrong at index:\",i+2,\"Tokenizer:\",len(token)+1,\"ID:\",len(df_Train['ID'][i])+1)\n",
        "print(wrong_lst)\n",
        "print(len(wrong_lst)+1)"
      ],
      "metadata": {
        "id": "CLjK684C4R5t"
      },
      "execution_count": null,
      "outputs": []
    },
    {
      "cell_type": "code",
      "source": [
        "#dataset checker [len token and id] (File)\n",
        "\n",
        "import ast\n",
        "import numpy as np\n",
        "import pandas as pd\n",
        "\n",
        "wrong_lst = []\n",
        "df_Train = pd.read_excel(\"/content/Final_ner_train.xlsx\")\n",
        "\n",
        "for i in range(len(df_Train['ID'])):\n",
        "   df_Train['ID'][i]= df_Train['ID'][i].replace(\"[\",\"\").replace(\"]\",\"\").replace(\" \",\"\").replace(\"\\n\",\"\").split(',')\n",
        "\n",
        "\n",
        "for i in range(len(df_Train['Tokenizer'])):\n",
        "  token = df_Train['Tokenizer'][i]\n",
        "  if i == 95:\n",
        "    continue\n",
        "  token = ast.literal_eval(token)\n",
        "\n",
        "  if len(token) == len(df_Train['ID'][i]):\n",
        "    print(\"true\", i)\n",
        "  else:\n",
        "    wrong_lst.append(i+2)\n",
        "    print(i+2, \". \",\"wrong at index:\",i+2,\"Tokenizer:\",len(token)+1,\"ID:\",len(df_Train['ID'][i])+1)\n",
        "print(wrong_lst)\n",
        "print(len(wrong_lst)+1)"
      ],
      "metadata": {
        "id": "CnLoTMIUBBQI"
      },
      "execution_count": null,
      "outputs": []
    }
  ]
}
